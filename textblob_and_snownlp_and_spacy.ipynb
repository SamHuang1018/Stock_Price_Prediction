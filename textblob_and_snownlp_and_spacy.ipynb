{
 "cells": [
  {
   "cell_type": "code",
   "execution_count": 4,
   "metadata": {},
   "outputs": [
    {
     "name": "stderr",
     "output_type": "stream",
     "text": [
      "[nltk_data] Downloading package averaged_perceptron_tagger to\n",
      "[nltk_data]     C:\\Users\\ju810609\\AppData\\Roaming\\nltk_data...\n",
      "[nltk_data]   Package averaged_perceptron_tagger is already up-to-\n",
      "[nltk_data]       date!\n"
     ]
    }
   ],
   "source": [
    "import nltk\n",
    "import pandas as pd\n",
    "from textblob import TextBlob\n",
    "from snownlp import SnowNLP\n",
    "\n",
    "nltk.download('averaged_perceptron_tagger')\n",
    "\n",
    "import spacy\n",
    "from spacytextblob.spacytextblob import SpacyTextBlob\n",
    "\n",
    "nlp = spacy.load('en_core_web_sm')\n",
    "nlp.add_pipe(\"spacytextblob\")\n",
    "\n",
    "from vaderSentiment.vaderSentiment import SentimentIntensityAnalyzer\n",
    "sent = SentimentIntensityAnalyzer()"
   ]
  },
  {
   "cell_type": "code",
   "execution_count": 39,
   "metadata": {},
   "outputs": [],
   "source": [
    "data = pd.read_csv('E:/crawler_final/cnn_business_news.csv', encoding='unicode_escape', index_col='date')"
   ]
  },
  {
   "cell_type": "code",
   "execution_count": 40,
   "metadata": {},
   "outputs": [],
   "source": [
    "sentiment_textblob = []\n",
    "sentiment_vader = []\n",
    "sentiment_snownlp = []\n",
    "sentiment_spacy = []\n",
    "\n",
    "for i in data['title']:\n",
    "    # print(i)\n",
    "    a = TextBlob(i)\n",
    "    b = SnowNLP(i)\n",
    "    c = nlp(i)\n",
    "    d = sent.polarity_scores(i)\n",
    "    sentiment_textblob.append(a.sentiment.polarity)\n",
    "    sentiment_snownlp.append(b.sentiments)\n",
    "    sentiment_spacy.append(c._.polarity)\n",
    "    sentiment_vader.append(d['compound'])"
   ]
  },
  {
   "cell_type": "code",
   "execution_count": 41,
   "metadata": {},
   "outputs": [],
   "source": [
    "all = pd.DataFrame({'TextBlob': sentiment_textblob, 'SnowNLP': sentiment_snownlp,\n",
    "                    'Spacy': sentiment_spacy, 'Vader': sentiment_vader}, index = data.index)"
   ]
  },
  {
   "cell_type": "code",
   "execution_count": 42,
   "metadata": {},
   "outputs": [
    {
     "data": {
      "text/html": [
       "<div>\n",
       "<style scoped>\n",
       "    .dataframe tbody tr th:only-of-type {\n",
       "        vertical-align: middle;\n",
       "    }\n",
       "\n",
       "    .dataframe tbody tr th {\n",
       "        vertical-align: top;\n",
       "    }\n",
       "\n",
       "    .dataframe thead th {\n",
       "        text-align: right;\n",
       "    }\n",
       "</style>\n",
       "<table border=\"1\" class=\"dataframe\">\n",
       "  <thead>\n",
       "    <tr style=\"text-align: right;\">\n",
       "      <th></th>\n",
       "      <th>TextBlob</th>\n",
       "      <th>SnowNLP</th>\n",
       "      <th>Spacy</th>\n",
       "      <th>Vader</th>\n",
       "    </tr>\n",
       "    <tr>\n",
       "      <th>date</th>\n",
       "      <th></th>\n",
       "      <th></th>\n",
       "      <th></th>\n",
       "      <th></th>\n",
       "    </tr>\n",
       "  </thead>\n",
       "  <tbody>\n",
       "    <tr>\n",
       "      <th>2022/11/23</th>\n",
       "      <td>0.000000</td>\n",
       "      <td>0.371652</td>\n",
       "      <td>0.000000</td>\n",
       "      <td>0.4019</td>\n",
       "    </tr>\n",
       "    <tr>\n",
       "      <th>2022/11/23</th>\n",
       "      <td>0.000000</td>\n",
       "      <td>0.229011</td>\n",
       "      <td>0.000000</td>\n",
       "      <td>0.0000</td>\n",
       "    </tr>\n",
       "    <tr>\n",
       "      <th>2022/11/22</th>\n",
       "      <td>0.000000</td>\n",
       "      <td>0.669739</td>\n",
       "      <td>0.000000</td>\n",
       "      <td>0.0000</td>\n",
       "    </tr>\n",
       "    <tr>\n",
       "      <th>2022/11/22</th>\n",
       "      <td>0.000000</td>\n",
       "      <td>0.347473</td>\n",
       "      <td>0.000000</td>\n",
       "      <td>0.0000</td>\n",
       "    </tr>\n",
       "    <tr>\n",
       "      <th>2022/11/22</th>\n",
       "      <td>0.000000</td>\n",
       "      <td>0.142761</td>\n",
       "      <td>0.000000</td>\n",
       "      <td>-0.1280</td>\n",
       "    </tr>\n",
       "    <tr>\n",
       "      <th>...</th>\n",
       "      <td>...</td>\n",
       "      <td>...</td>\n",
       "      <td>...</td>\n",
       "      <td>...</td>\n",
       "    </tr>\n",
       "    <tr>\n",
       "      <th>2017/1/18</th>\n",
       "      <td>0.136364</td>\n",
       "      <td>0.421875</td>\n",
       "      <td>0.136364</td>\n",
       "      <td>0.3818</td>\n",
       "    </tr>\n",
       "    <tr>\n",
       "      <th>2017/1/18</th>\n",
       "      <td>0.000000</td>\n",
       "      <td>0.347473</td>\n",
       "      <td>0.000000</td>\n",
       "      <td>0.0000</td>\n",
       "    </tr>\n",
       "    <tr>\n",
       "      <th>2017/1/17</th>\n",
       "      <td>0.000000</td>\n",
       "      <td>0.125776</td>\n",
       "      <td>0.000000</td>\n",
       "      <td>0.0000</td>\n",
       "    </tr>\n",
       "    <tr>\n",
       "      <th>2017/1/17</th>\n",
       "      <td>0.000000</td>\n",
       "      <td>0.396490</td>\n",
       "      <td>0.000000</td>\n",
       "      <td>0.0000</td>\n",
       "    </tr>\n",
       "    <tr>\n",
       "      <th>2017/1/17</th>\n",
       "      <td>0.000000</td>\n",
       "      <td>0.396490</td>\n",
       "      <td>0.000000</td>\n",
       "      <td>-0.2732</td>\n",
       "    </tr>\n",
       "  </tbody>\n",
       "</table>\n",
       "<p>9806 rows × 4 columns</p>\n",
       "</div>"
      ],
      "text/plain": [
       "            TextBlob   SnowNLP     Spacy   Vader\n",
       "date                                            \n",
       "2022/11/23  0.000000  0.371652  0.000000  0.4019\n",
       "2022/11/23  0.000000  0.229011  0.000000  0.0000\n",
       "2022/11/22  0.000000  0.669739  0.000000  0.0000\n",
       "2022/11/22  0.000000  0.347473  0.000000  0.0000\n",
       "2022/11/22  0.000000  0.142761  0.000000 -0.1280\n",
       "...              ...       ...       ...     ...\n",
       "2017/1/18   0.136364  0.421875  0.136364  0.3818\n",
       "2017/1/18   0.000000  0.347473  0.000000  0.0000\n",
       "2017/1/17   0.000000  0.125776  0.000000  0.0000\n",
       "2017/1/17   0.000000  0.396490  0.000000  0.0000\n",
       "2017/1/17   0.000000  0.396490  0.000000 -0.2732\n",
       "\n",
       "[9806 rows x 4 columns]"
      ]
     },
     "execution_count": 42,
     "metadata": {},
     "output_type": "execute_result"
    }
   ],
   "source": [
    "all"
   ]
  }
 ],
 "metadata": {
  "kernelspec": {
   "display_name": "Python 3.9.13 64-bit",
   "language": "python",
   "name": "python3"
  },
  "language_info": {
   "codemirror_mode": {
    "name": "ipython",
    "version": 3
   },
   "file_extension": ".py",
   "mimetype": "text/x-python",
   "name": "python",
   "nbconvert_exporter": "python",
   "pygments_lexer": "ipython3",
   "version": "3.9.13"
  },
  "orig_nbformat": 4,
  "vscode": {
   "interpreter": {
    "hash": "11938c6bc6919ae2720b4d5011047913343b08a43b18698fd82dedb0d4417594"
   }
  }
 },
 "nbformat": 4,
 "nbformat_minor": 2
}
